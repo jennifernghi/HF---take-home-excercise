{
 "cells": [
  {
   "cell_type": "code",
   "execution_count": 5,
   "id": "8fa28ba8",
   "metadata": {},
   "outputs": [],
   "source": [
    "import pandas as pd\n",
    "import numpy as np\n",
    "import re\n",
    "import matplotlib.pyplot as plt\n",
    "import seaborn as sns\n",
    "import scipy.stats as stats\n",
    "from scipy.stats import f_oneway\n",
    "pd.set_option('display.max_rows', None)"
   ]
  },
  {
   "cell_type": "code",
   "execution_count": 6,
   "id": "10f3b30b",
   "metadata": {},
   "outputs": [
    {
     "name": "stdout",
     "output_type": "stream",
     "text": [
      "Sheet names: ['Sheet1']\n"
     ]
    }
   ],
   "source": [
    "# Load the Excel file\n",
    "file_path = \"cleaned_data.xlsx\"\n",
    "\n",
    "# List all sheet names (optional)\n",
    "xls = pd.ExcelFile(file_path)\n",
    "print(\"Sheet names:\", xls.sheet_names)\n",
    "\n",
    "# Load a specific sheet into a DataFrame (replace 'Sheet1' with your desired sheet name)\n",
    "df = pd.read_excel(xls, sheet_name='Sheet1')"
   ]
  },
  {
   "cell_type": "code",
   "execution_count": 7,
   "id": "d55f09ad",
   "metadata": {
    "scrolled": true
   },
   "outputs": [
    {
     "data": {
      "text/html": [
       "<div>\n",
       "<style scoped>\n",
       "    .dataframe tbody tr th:only-of-type {\n",
       "        vertical-align: middle;\n",
       "    }\n",
       "\n",
       "    .dataframe tbody tr th {\n",
       "        vertical-align: top;\n",
       "    }\n",
       "\n",
       "    .dataframe thead th {\n",
       "        text-align: right;\n",
       "    }\n",
       "</style>\n",
       "<table border=\"1\" class=\"dataframe\">\n",
       "  <thead>\n",
       "    <tr style=\"text-align: right;\">\n",
       "      <th></th>\n",
       "      <th>Unique Id</th>\n",
       "      <th>Date</th>\n",
       "      <th>Site</th>\n",
       "      <th>Region</th>\n",
       "      <th>Case State</th>\n",
       "      <th>CTQ</th>\n",
       "      <th>Disease Burden</th>\n",
       "      <th>Returned Reason</th>\n",
       "      <th>IQ Score</th>\n",
       "      <th>Returned Reason2</th>\n",
       "      <th>Returned Reason Group</th>\n",
       "      <th>Disease Burden2</th>\n",
       "      <th>Disease_Burden_encoded</th>\n",
       "      <th>Region2</th>\n",
       "      <th>CTQ2</th>\n",
       "      <th>CTQ2_encoded</th>\n",
       "      <th>IQ Score cleaned</th>\n",
       "    </tr>\n",
       "  </thead>\n",
       "  <tbody>\n",
       "    <tr>\n",
       "      <th>0</th>\n",
       "      <td>0006f2f08ab2</td>\n",
       "      <td>2024-11-11</td>\n",
       "      <td>CFHSC</td>\n",
       "      <td>US East</td>\n",
       "      <td>COMPLETED</td>\n",
       "      <td>excellent</td>\n",
       "      <td>low</td>\n",
       "      <td>NaN</td>\n",
       "      <td>0.730472</td>\n",
       "      <td>NaN</td>\n",
       "      <td>NaN</td>\n",
       "      <td>Low</td>\n",
       "      <td>1</td>\n",
       "      <td>US - East</td>\n",
       "      <td>Excellent</td>\n",
       "      <td>3</td>\n",
       "      <td>0.730472</td>\n",
       "    </tr>\n",
       "    <tr>\n",
       "      <th>1</th>\n",
       "      <td>000f3913c559</td>\n",
       "      <td>2024-11-04</td>\n",
       "      <td>VCSSV</td>\n",
       "      <td>US East : Southeast</td>\n",
       "      <td>COMPLETED</td>\n",
       "      <td>ok</td>\n",
       "      <td>low</td>\n",
       "      <td>NaN</td>\n",
       "      <td>0.415275</td>\n",
       "      <td>NaN</td>\n",
       "      <td>NaN</td>\n",
       "      <td>Low</td>\n",
       "      <td>1</td>\n",
       "      <td>US - East</td>\n",
       "      <td>OK</td>\n",
       "      <td>2</td>\n",
       "      <td>0.415275</td>\n",
       "    </tr>\n",
       "    <tr>\n",
       "      <th>2</th>\n",
       "      <td>0010919a553c</td>\n",
       "      <td>2024-11-14</td>\n",
       "      <td>CVISDSC</td>\n",
       "      <td>US West</td>\n",
       "      <td>COMPLETED</td>\n",
       "      <td>excellent</td>\n",
       "      <td>low</td>\n",
       "      <td>NaN</td>\n",
       "      <td>0.561682</td>\n",
       "      <td>NaN</td>\n",
       "      <td>NaN</td>\n",
       "      <td>Low</td>\n",
       "      <td>1</td>\n",
       "      <td>US - West</td>\n",
       "      <td>Excellent</td>\n",
       "      <td>3</td>\n",
       "      <td>0.561682</td>\n",
       "    </tr>\n",
       "    <tr>\n",
       "      <th>3</th>\n",
       "      <td>0015386a6aa2</td>\n",
       "      <td>2024-11-05</td>\n",
       "      <td>LGHASL</td>\n",
       "      <td>Illinois</td>\n",
       "      <td>COMPLETED</td>\n",
       "      <td>borderline</td>\n",
       "      <td>high</td>\n",
       "      <td>NaN</td>\n",
       "      <td>0.516929</td>\n",
       "      <td>NaN</td>\n",
       "      <td>NaN</td>\n",
       "      <td>High</td>\n",
       "      <td>3</td>\n",
       "      <td>US - Central</td>\n",
       "      <td>Borderline</td>\n",
       "      <td>1</td>\n",
       "      <td>0.516929</td>\n",
       "    </tr>\n",
       "    <tr>\n",
       "      <th>4</th>\n",
       "      <td>00213dfc8ce1</td>\n",
       "      <td>2024-11-05</td>\n",
       "      <td>EHWMSE</td>\n",
       "      <td>US EAST</td>\n",
       "      <td>COMPLETED</td>\n",
       "      <td>ok</td>\n",
       "      <td>low</td>\n",
       "      <td>NaN</td>\n",
       "      <td>0.377371</td>\n",
       "      <td>NaN</td>\n",
       "      <td>NaN</td>\n",
       "      <td>Low</td>\n",
       "      <td>1</td>\n",
       "      <td>US - East</td>\n",
       "      <td>OK</td>\n",
       "      <td>2</td>\n",
       "      <td>0.377371</td>\n",
       "    </tr>\n",
       "  </tbody>\n",
       "</table>\n",
       "</div>"
      ],
      "text/plain": [
       "      Unique Id       Date     Site               Region Case State  \\\n",
       "0  0006f2f08ab2 2024-11-11    CFHSC              US East  COMPLETED   \n",
       "1  000f3913c559 2024-11-04    VCSSV  US East : Southeast  COMPLETED   \n",
       "2  0010919a553c 2024-11-14  CVISDSC              US West  COMPLETED   \n",
       "3  0015386a6aa2 2024-11-05   LGHASL             Illinois  COMPLETED   \n",
       "4  00213dfc8ce1 2024-11-05   EHWMSE              US EAST  COMPLETED   \n",
       "\n",
       "          CTQ Disease Burden Returned Reason  IQ Score Returned Reason2  \\\n",
       "0   excellent            low             NaN  0.730472              NaN   \n",
       "1          ok            low             NaN  0.415275              NaN   \n",
       "2   excellent            low             NaN  0.561682              NaN   \n",
       "3  borderline           high             NaN  0.516929              NaN   \n",
       "4          ok            low             NaN  0.377371              NaN   \n",
       "\n",
       "  Returned Reason Group Disease Burden2  Disease_Burden_encoded       Region2  \\\n",
       "0                   NaN             Low                       1     US - East   \n",
       "1                   NaN             Low                       1     US - East   \n",
       "2                   NaN             Low                       1     US - West   \n",
       "3                   NaN            High                       3  US - Central   \n",
       "4                   NaN             Low                       1     US - East   \n",
       "\n",
       "         CTQ2  CTQ2_encoded  IQ Score cleaned  \n",
       "0   Excellent             3          0.730472  \n",
       "1          OK             2          0.415275  \n",
       "2   Excellent             3          0.561682  \n",
       "3  Borderline             1          0.516929  \n",
       "4          OK             2          0.377371  "
      ]
     },
     "execution_count": 7,
     "metadata": {},
     "output_type": "execute_result"
    }
   ],
   "source": [
    "df.head()"
   ]
  },
  {
   "cell_type": "code",
   "execution_count": 9,
   "id": "604df003",
   "metadata": {},
   "outputs": [
    {
     "data": {
      "text/plain": [
       "(13536, 17)"
      ]
     },
     "execution_count": 9,
     "metadata": {},
     "output_type": "execute_result"
    }
   ],
   "source": [
    "df.shape"
   ]
  },
  {
   "cell_type": "markdown",
   "id": "a60cf122",
   "metadata": {},
   "source": [
    "# How does the CTQ assessment relate to the IQ scores"
   ]
  },
  {
   "cell_type": "code",
   "execution_count": 10,
   "id": "6110df46",
   "metadata": {},
   "outputs": [
    {
     "data": {
      "text/plain": [
       "array(['COMPLETED', 'RETURNED'], dtype=object)"
      ]
     },
     "execution_count": 10,
     "metadata": {},
     "output_type": "execute_result"
    }
   ],
   "source": [
    "\n",
    "df['Case State'].unique()"
   ]
  },
  {
   "cell_type": "code",
   "execution_count": 11,
   "id": "4aaaa783",
   "metadata": {},
   "outputs": [
    {
     "data": {
      "text/html": [
       "<div>\n",
       "<style scoped>\n",
       "    .dataframe tbody tr th:only-of-type {\n",
       "        vertical-align: middle;\n",
       "    }\n",
       "\n",
       "    .dataframe tbody tr th {\n",
       "        vertical-align: top;\n",
       "    }\n",
       "\n",
       "    .dataframe thead th {\n",
       "        text-align: right;\n",
       "    }\n",
       "</style>\n",
       "<table border=\"1\" class=\"dataframe\">\n",
       "  <thead>\n",
       "    <tr style=\"text-align: right;\">\n",
       "      <th></th>\n",
       "      <th>count</th>\n",
       "      <th>mean</th>\n",
       "      <th>std</th>\n",
       "      <th>min</th>\n",
       "      <th>25%</th>\n",
       "      <th>50%</th>\n",
       "      <th>75%</th>\n",
       "      <th>max</th>\n",
       "    </tr>\n",
       "    <tr>\n",
       "      <th>CTQ2</th>\n",
       "      <th></th>\n",
       "      <th></th>\n",
       "      <th></th>\n",
       "      <th></th>\n",
       "      <th></th>\n",
       "      <th></th>\n",
       "      <th></th>\n",
       "      <th></th>\n",
       "    </tr>\n",
       "  </thead>\n",
       "  <tbody>\n",
       "    <tr>\n",
       "      <th>Borderline</th>\n",
       "      <td>1628.0</td>\n",
       "      <td>0.422244</td>\n",
       "      <td>0.124946</td>\n",
       "      <td>0.168410</td>\n",
       "      <td>0.325140</td>\n",
       "      <td>0.407812</td>\n",
       "      <td>0.504422</td>\n",
       "      <td>0.820432</td>\n",
       "    </tr>\n",
       "    <tr>\n",
       "      <th>Excellent</th>\n",
       "      <td>2562.0</td>\n",
       "      <td>0.625235</td>\n",
       "      <td>0.102925</td>\n",
       "      <td>0.242346</td>\n",
       "      <td>0.557166</td>\n",
       "      <td>0.628195</td>\n",
       "      <td>0.704881</td>\n",
       "      <td>0.851026</td>\n",
       "    </tr>\n",
       "    <tr>\n",
       "      <th>OK</th>\n",
       "      <td>8084.0</td>\n",
       "      <td>0.550374</td>\n",
       "      <td>0.119882</td>\n",
       "      <td>0.177166</td>\n",
       "      <td>0.466055</td>\n",
       "      <td>0.551093</td>\n",
       "      <td>0.636530</td>\n",
       "      <td>0.840663</td>\n",
       "    </tr>\n",
       "  </tbody>\n",
       "</table>\n",
       "</div>"
      ],
      "text/plain": [
       "             count      mean       std       min       25%       50%  \\\n",
       "CTQ2                                                                   \n",
       "Borderline  1628.0  0.422244  0.124946  0.168410  0.325140  0.407812   \n",
       "Excellent   2562.0  0.625235  0.102925  0.242346  0.557166  0.628195   \n",
       "OK          8084.0  0.550374  0.119882  0.177166  0.466055  0.551093   \n",
       "\n",
       "                 75%       max  \n",
       "CTQ2                            \n",
       "Borderline  0.504422  0.820432  \n",
       "Excellent   0.704881  0.851026  \n",
       "OK          0.636530  0.840663  "
      ]
     },
     "execution_count": 11,
     "metadata": {},
     "output_type": "execute_result"
    }
   ],
   "source": [
    "df.groupby('CTQ2')['IQ Score cleaned'].describe()"
   ]
  },
  {
   "cell_type": "code",
   "execution_count": 12,
   "id": "b23dfe23",
   "metadata": {},
   "outputs": [
    {
     "data": {
      "image/png": "[encoded data removed]",
      "text/plain": [
       "<Figure size 640x480 with 1 Axes>"
      ]
     },
     "metadata": {},
     "output_type": "display_data"
    }
   ],
   "source": [
    "sns.boxplot(x='CTQ2', y='IQ Score cleaned', data=df)\n",
    "plt.ylim(0, 1)  # Set y-axis range from 0 to 1\n",
    "plt.title('IQ Score Distribution by CTQ')\n",
    "plt.show()"
   ]
  },
  {
   "cell_type": "markdown",
   "id": "747992ed",
   "metadata": {},
   "source": [
    "- Clear Positive Correlation: Higher CTQ (e.g., Excellent) is associated with higher IQ Scores. As CTQ drops to OK and Borderline, the median and overall IQ Scores decrease.\n",
    "- Excellent CTQ shows a tighter distribution, suggesting consistent image quality.\n",
    "- Borderline has a wider spread, which indicates more variability and poorer image quality.\n",
    "- CTQ is strongly aligned with the quantitative IQ Score — confirming that the visual CT quality rating by analysts matches the IQ Score output"
   ]
  },
  {
   "cell_type": "code",
   "execution_count": 13,
   "id": "4dd1b89f",
   "metadata": {
    "scrolled": true
   },
   "outputs": [
    {
     "name": "stdout",
     "output_type": "stream",
     "text": [
      "F-statistic: 1493.4353\n",
      "P-value: 0.0000000000\n"
     ]
    }
   ],
   "source": [
    "# Group IQ scores by CTQ2 category\n",
    "groups = [group['IQ Score cleaned'].dropna() for name, group in df.groupby('CTQ2')]\n",
    "\n",
    "# Run one-way ANOVA\n",
    "f_stat, p_val = stats.f_oneway(*groups)\n",
    "\n",
    "print(f\"F-statistic: {f_stat:.4f}\")\n",
    "print(f\"P-value: {p_val:.10f}\")"
   ]
  },
  {
   "cell_type": "markdown",
   "id": "0a27412f",
   "metadata": {},
   "source": [
    "- There is a statistically significant difference in the mean IQ scores across the CTQ2 groups (e.g., Excellent, OK, Borderline).\n",
    "- The p-value < 0.05 -> CTQ2 ratings are meaningfully associated with IQ Score differences"
   ]
  },
  {
   "cell_type": "markdown",
   "id": "dfb4d43b",
   "metadata": {},
   "source": [
    "# How does the Disease Burden assessment relate to the IQ scores"
   ]
  },
  {
   "cell_type": "code",
   "execution_count": 8,
   "id": "6121e91a",
   "metadata": {},
   "outputs": [
    {
     "data": {
      "text/html": [
       "<div>\n",
       "<style scoped>\n",
       "    .dataframe tbody tr th:only-of-type {\n",
       "        vertical-align: middle;\n",
       "    }\n",
       "\n",
       "    .dataframe tbody tr th {\n",
       "        vertical-align: top;\n",
       "    }\n",
       "\n",
       "    .dataframe thead th {\n",
       "        text-align: right;\n",
       "    }\n",
       "</style>\n",
       "<table border=\"1\" class=\"dataframe\">\n",
       "  <thead>\n",
       "    <tr style=\"text-align: right;\">\n",
       "      <th></th>\n",
       "      <th>count</th>\n",
       "      <th>mean</th>\n",
       "      <th>std</th>\n",
       "      <th>min</th>\n",
       "      <th>25%</th>\n",
       "      <th>50%</th>\n",
       "      <th>75%</th>\n",
       "      <th>max</th>\n",
       "    </tr>\n",
       "    <tr>\n",
       "      <th>Disease Burden2</th>\n",
       "      <th></th>\n",
       "      <th></th>\n",
       "      <th></th>\n",
       "      <th></th>\n",
       "      <th></th>\n",
       "      <th></th>\n",
       "      <th></th>\n",
       "      <th></th>\n",
       "    </tr>\n",
       "  </thead>\n",
       "  <tbody>\n",
       "    <tr>\n",
       "      <th>High</th>\n",
       "      <td>1905.0</td>\n",
       "      <td>0.508477</td>\n",
       "      <td>0.122343</td>\n",
       "      <td>0.177464</td>\n",
       "      <td>0.420615</td>\n",
       "      <td>0.506425</td>\n",
       "      <td>0.601147</td>\n",
       "      <td>0.817549</td>\n",
       "    </tr>\n",
       "    <tr>\n",
       "      <th>Low</th>\n",
       "      <td>6322.0</td>\n",
       "      <td>0.566015</td>\n",
       "      <td>0.132497</td>\n",
       "      <td>0.169547</td>\n",
       "      <td>0.476544</td>\n",
       "      <td>0.575089</td>\n",
       "      <td>0.667101</td>\n",
       "      <td>0.851026</td>\n",
       "    </tr>\n",
       "    <tr>\n",
       "      <th>Moderate</th>\n",
       "      <td>4030.0</td>\n",
       "      <td>0.541333</td>\n",
       "      <td>0.126837</td>\n",
       "      <td>0.168410</td>\n",
       "      <td>0.454650</td>\n",
       "      <td>0.545206</td>\n",
       "      <td>0.633760</td>\n",
       "      <td>0.840663</td>\n",
       "    </tr>\n",
       "  </tbody>\n",
       "</table>\n",
       "</div>"
      ],
      "text/plain": [
       "                  count      mean       std       min       25%       50%  \\\n",
       "Disease Burden2                                                             \n",
       "High             1905.0  0.508477  0.122343  0.177464  0.420615  0.506425   \n",
       "Low              6322.0  0.566015  0.132497  0.169547  0.476544  0.575089   \n",
       "Moderate         4030.0  0.541333  0.126837  0.168410  0.454650  0.545206   \n",
       "\n",
       "                      75%       max  \n",
       "Disease Burden2                      \n",
       "High             0.601147  0.817549  \n",
       "Low              0.667101  0.851026  \n",
       "Moderate         0.633760  0.840663  "
      ]
     },
     "execution_count": 8,
     "metadata": {},
     "output_type": "execute_result"
    }
   ],
   "source": [
    "df.groupby('Disease Burden2')['IQ Score cleaned'].describe()"
   ]
  },
  {
   "cell_type": "code",
   "execution_count": 9,
   "id": "daaee8cc",
   "metadata": {},
   "outputs": [
    {
     "data": {
      "image/png": "[encoded data removed]",
      "text/plain": [
       "<Figure size 640x480 with 1 Axes>"
      ]
     },
     "metadata": {},
     "output_type": "display_data"
    }
   ],
   "source": [
    "sns.boxplot(x='Disease Burden2', y='IQ Score cleaned', data=df, order=['Low', 'Moderate', 'High'])\n",
    "plt.ylim(0, 1)  # Set y-axis range from 0 to 1\n",
    "plt.title('IQ Score Distribution by Disease Burden')\n",
    "plt.show()"
   ]
  },
  {
   "cell_type": "markdown",
   "id": "c4fed807",
   "metadata": {},
   "source": [
    "- Median IQ Score is highest in the Low burden group, suggesting better image quality or case performance when disease burden is low.\n",
    "- The High burden group has the lowest median IQ Score, indicating a negative impact of disease burden on IQ."
   ]
  },
  {
   "cell_type": "code",
   "execution_count": 12,
   "id": "452620c4",
   "metadata": {},
   "outputs": [
    {
     "name": "stdout",
     "output_type": "stream",
     "text": [
      "\n",
      "Correlation matrix:\n",
      "\n",
      "                        IQ Score cleaned  CTQ2_encoded  Disease_Burden_encoded\n",
      "IQ Score cleaned                    1.00          0.43                   -0.15\n",
      "CTQ2_encoded                        0.43          1.00                   -0.23\n",
      "Disease_Burden_encoded             -0.15         -0.23                    1.00\n"
     ]
    },
    {
     "data": {
      "image/png": "[encoded data removed]",
      "text/plain": [
       "<Figure size 800x800 with 2 Axes>"
      ]
     },
     "metadata": {},
     "output_type": "display_data"
    }
   ],
   "source": [
    "\n",
    "# Select numeric columns\n",
    "corr_df = df[['IQ Score cleaned', 'CTQ2_encoded', 'Disease_Burden_encoded']]\n",
    "\n",
    "# Compute correlation\n",
    "corr = corr_df.corr()\n",
    "\n",
    "# Print correlation values \n",
    "print(\"\\nCorrelation matrix:\\n\")\n",
    "print(corr.round(2))\n",
    "\n",
    "# Rename index/columns for pretty labels\n",
    "pretty_labels = ['IQ Score', 'CTQ2', 'Disease Burden']\n",
    "corr.index = pretty_labels\n",
    "corr.columns = pretty_labels\n",
    "\n",
    "# Plot heatmap\n",
    "plt.figure(figsize=(8, 8))\n",
    "sns.heatmap(\n",
    "    corr,\n",
    "    annot=True,\n",
    "    cmap='coolwarm',\n",
    "    fmt=\".2f\",\n",
    "    square=True,\n",
    "    annot_kws={\"size\": 12, \"color\": \"black\"},  # makes sure text is visible\n",
    "    xticklabels=pretty_labels,\n",
    "    yticklabels=pretty_labels\n",
    ")\n",
    "plt.title('Correlation Heatmap')\n",
    "plt.show()"
   ]
  },
  {
   "cell_type": "code",
   "execution_count": null,
   "id": "77050023",
   "metadata": {},
   "outputs": [],
   "source": []
  }
 ],
 "metadata": {
  "kernelspec": {
   "display_name": "Python 3 (ipykernel)",
   "language": "python",
   "name": "python3"
  },
  "language_info": {
   "codemirror_mode": {
    "name": "ipython",
    "version": 3
   },
   "file_extension": ".py",
   "mimetype": "text/x-python",
   "name": "python",
   "nbconvert_exporter": "python",
   "pygments_lexer": "ipython3",
   "version": "3.11.7"
  }
 },
 "nbformat": 4,
 "nbformat_minor": 5
}
